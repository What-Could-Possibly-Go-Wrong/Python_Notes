{
 "cells": [
  {
   "attachments": {},
   "cell_type": "markdown",
   "metadata": {},
   "source": [
    "# Types"
   ]
  },
  {
   "attachments": {},
   "cell_type": "markdown",
   "metadata": {},
   "source": [
    "## Types:Int"
   ]
  },
  {
   "cell_type": "code",
   "execution_count": null,
   "metadata": {},
   "outputs": [],
   "source": [
    "a = 3\n",
    "type (a)"
   ]
  },
  {
   "attachments": {},
   "cell_type": "markdown",
   "metadata": {},
   "source": [
    "## Types:String"
   ]
  },
  {
   "attachments": {},
   "cell_type": "markdown",
   "metadata": {},
   "source": [
    "Nicht veränderbar"
   ]
  },
  {
   "attachments": {},
   "cell_type": "markdown",
   "metadata": {},
   "source": [
    "### Erstellen"
   ]
  },
  {
   "cell_type": "code",
   "execution_count": null,
   "metadata": {},
   "outputs": [],
   "source": [
    "Text = 'Hello there'\n",
    "type(Text)"
   ]
  },
  {
   "attachments": {},
   "cell_type": "markdown",
   "metadata": {},
   "source": [
    "### Adressieren"
   ]
  },
  {
   "cell_type": "code",
   "execution_count": null,
   "metadata": {},
   "outputs": [],
   "source": [
    "a='Hello there' "
   ]
  },
  {
   "attachments": {},
   "cell_type": "markdown",
   "metadata": {},
   "source": [
    "| Value | pos Position | neg Position |\n",
    "| --- | --- | --- |\n",
    "| H | 0 | -11 |\n",
    "|e|1|-10|\n",
    "|l|2|-9|\n",
    "|l|3|-8|\n",
    "|o|4|-7|\n",
    "| |5|-6|\n",
    "|t|6|-5|\n",
    "|h|7|-4|\n",
    "|e|8|-3|\n",
    "|r|9|-2|\n",
    "|e|10|-1|"
   ]
  },
  {
   "cell_type": "code",
   "execution_count": null,
   "metadata": {},
   "outputs": [],
   "source": [
    "print(a[0])\n",
    "print(a[4])\n",
    "print(a[-1])\n",
    "print(a[-5])\n",
    "print(a[1:3])\n",
    "print(a[:3])\n",
    "print(a[2:])\n",
    "print(a[-3:])"
   ]
  },
  {
   "attachments": {},
   "cell_type": "markdown",
   "metadata": {},
   "source": [
    "### Funktions on string"
   ]
  },
  {
   "cell_type": "code",
   "execution_count": null,
   "metadata": {},
   "outputs": [],
   "source": [
    "a='Hello'\n",
    "print(a)\n",
    "print(\"*************************\")\n",
    "\n",
    "b = len(a)\n",
    "print(\"The length of \"\"'Hello'\"\" is: \", b)\n",
    "\n",
    "c = a.lower()\n",
    "print(c)\n",
    "\n",
    "d = a.find('o')\n",
    "print(\"\"'o'\" ist an der Stelle: \", d)\n",
    "\n",
    "e = a.replace(\"l\",\"*\")\n",
    "print(e)"
   ]
  },
  {
   "attachments": {},
   "cell_type": "markdown",
   "metadata": {},
   "source": [
    "## Types:Dictionary"
   ]
  },
  {
   "attachments": {},
   "cell_type": "markdown",
   "metadata": {},
   "source": [
    "Veränderbar"
   ]
  },
  {
   "cell_type": "code",
   "execution_count": null,
   "metadata": {},
   "outputs": [],
   "source": [
    "my_dict = {\n",
    "    \"key1\": \"value1\",\n",
    "    \"key2\": \"value2\",\n",
    "    \"key3\": \"value3\"\n",
    "}\n",
    "\n",
    "my_dict[\"key1\"] = \"*******\"\n",
    "my_dict[\"key4\"] = \"value4\"\n",
    "print(type(my_dict))\n",
    "my_dict"
   ]
  },
  {
   "cell_type": "code",
   "execution_count": null,
   "metadata": {},
   "outputs": [],
   "source": [
    "d={}\n",
    "d['a'] = 'alpha'\n",
    "print(d)\n",
    "d['b'] = 'beta'\n",
    "print(d)\n",
    "print(d['a'])\n",
    "\n",
    "d['a']  \t# == d.get('a')\n",
    "\n",
    "print(\"The keys are  : \",d.keys())\n",
    "print(\"The values are: \",d.values())"
   ]
  },
  {
   "attachments": {},
   "cell_type": "markdown",
   "metadata": {},
   "source": [
    "Loop over keys"
   ]
  },
  {
   "cell_type": "code",
   "execution_count": null,
   "metadata": {},
   "outputs": [],
   "source": [
    "d={}\n",
    "d['a'] = 'alpha'\n",
    "d['b'] = 'beta'\n",
    "d['z'] = 'zeta'\n",
    "d['c'] = 'charly'\n",
    "for k in d.keys():\n",
    "\tprint(k)\n",
    "print(\"*************\")\n",
    "for ey in sorted(d.keys()):\n",
    "\tprint(ey)"
   ]
  },
  {
   "attachments": {},
   "cell_type": "markdown",
   "metadata": {},
   "source": [
    "## Types:Tupel"
   ]
  },
  {
   "attachments": {},
   "cell_type": "markdown",
   "metadata": {},
   "source": [
    "Ein Tuple in Python ist eine Sequenz von Werten, die in runden Klammern geschrieben werden. Die Werte in einem Tuple können unterschiedliche Typen haben, und sie sind nicht veränderbar, d.h. sie können nicht geändert oder entfernt werden, nachdem sie erstellt wurden. "
   ]
  },
  {
   "cell_type": "code",
   "execution_count": 1,
   "metadata": {},
   "outputs": [
    {
     "name": "stdout",
     "output_type": "stream",
     "text": [
      "('a', 'b', 'c', 'd', 'e', 'f', 'g', 'h')\n",
      "('e', 'f', 'g', 'h')\n"
     ]
    }
   ],
   "source": [
    "a = ('a','b','c','d','e','f','g','h')\n",
    "b = ('a',42)\n",
    "print(a)\n",
    "type(a)\n",
    "print(a[4:])    # Siehe String"
   ]
  },
  {
   "attachments": {},
   "cell_type": "markdown",
   "metadata": {},
   "source": [
    "## Types:List"
   ]
  },
  {
   "attachments": {},
   "cell_type": "markdown",
   "metadata": {},
   "source": [
    "List that can contain all types and is changeable"
   ]
  },
  {
   "attachments": {},
   "cell_type": "markdown",
   "metadata": {},
   "source": [
    "### Types:List:Creat"
   ]
  },
  {
   "cell_type": "code",
   "execution_count": null,
   "metadata": {},
   "outputs": [],
   "source": [
    "A=['aaa','bbb','cc']\n",
    "B = ['Test','123']\n",
    "print(A)\n",
    "print(type(A))\n",
    "print(B)\n",
    "print(type(B))\n"
   ]
  },
  {
   "attachments": {},
   "cell_type": "markdown",
   "metadata": {},
   "source": [
    "### Types:List:Adress"
   ]
  },
  {
   "cell_type": "code",
   "execution_count": null,
   "metadata": {},
   "outputs": [],
   "source": [
    "# see string\n",
    "A=[33,22,11,0]\n",
    "print(A[2])\n",
    "print(A[:-1])"
   ]
  },
  {
   "attachments": {},
   "cell_type": "markdown",
   "metadata": {},
   "source": [
    "### Types:List:Sort"
   ]
  },
  {
   "cell_type": "code",
   "execution_count": null,
   "metadata": {},
   "outputs": [],
   "source": [
    "A = [11,33,22,44]\n",
    "B = sorted(A)\n",
    "\t\t\t##\t-> A = [11,33,22,44]\n",
    "\t\t\t##\t-> B = [11,22,33,44]\n",
    "\n",
    "print(A)\n",
    "print(B)\n",
    "\n",
    "B = sorted(A, reverse= True)\n",
    "\t\t\t#\t-> A = [11,33,22,44]\n",
    "\t\t\t#\t-> B = [44,33,22,11]\n",
    "\t\t\t\n",
    "print(\"************\")\n",
    "print(A)\n",
    "print(B)\n",
    "print(\"************\")\n",
    "A =['aaaa','bb','d','ccc']\n",
    "B = sorted(A,key=len)\n",
    "\t\t\t#\t-> A =['aaaa','bb','d','ccc']\n",
    "\t\t\t#\t-> B =['d','bb','ccc','aaaa']\n",
    "print(A)\n",
    "print(B)\n",
    "print(\"************\")"
   ]
  },
  {
   "attachments": {},
   "cell_type": "markdown",
   "metadata": {},
   "source": [
    "### Types:List:Functions"
   ]
  },
  {
   "attachments": {},
   "cell_type": "markdown",
   "metadata": {},
   "source": [
    "#### Types:List:Functions:Len"
   ]
  },
  {
   "cell_type": "code",
   "execution_count": null,
   "metadata": {},
   "outputs": [],
   "source": [
    "# Länge\n",
    "\n",
    "a = [1,2,3]\n",
    "b = []\n",
    "c = [11]\n",
    "print(a)\n",
    "print(len(a))\n",
    "print(\"***********\")\n",
    "print(b)\n",
    "print(len(b))\n",
    "print(\"***********\")\n",
    "print(c)\n",
    "print(len(c))"
   ]
  },
  {
   "attachments": {},
   "cell_type": "markdown",
   "metadata": {},
   "source": [
    "#### Types:List:Functions:Add/Append"
   ]
  },
  {
   "cell_type": "code",
   "execution_count": null,
   "metadata": {},
   "outputs": [],
   "source": [
    "# Länge\n",
    "\n",
    "a = [1,2,3]\n",
    "b = []\n",
    "c = [11]\n",
    "\n",
    "d = a+c\n",
    "print(d)\n",
    "d.append(99)\n",
    "print(d)\n"
   ]
  },
  {
   "attachments": {},
   "cell_type": "markdown",
   "metadata": {},
   "source": [
    "#### Types:List:Function:Pop"
   ]
  },
  {
   "cell_type": "code",
   "execution_count": null,
   "metadata": {},
   "outputs": [],
   "source": [
    "A = [11,22,33]\n",
    "print(A.pop(1))\n",
    "print(A)"
   ]
  },
  {
   "attachments": {},
   "cell_type": "markdown",
   "metadata": {},
   "source": [
    "#### Types:List:Function:Delete"
   ]
  },
  {
   "cell_type": "code",
   "execution_count": null,
   "metadata": {},
   "outputs": [],
   "source": [
    "A = [11,22,33]\n",
    "del A[1]\n",
    "print(A)\n",
    "print(\"******************\")\n",
    "del A # A is not defined anymore"
   ]
  },
  {
   "attachments": {},
   "cell_type": "markdown",
   "metadata": {},
   "source": [
    "#### Types:List:Function:Compare"
   ]
  },
  {
   "cell_type": "code",
   "execution_count": null,
   "metadata": {},
   "outputs": [],
   "source": [
    "A=[1,2,3]\n",
    "B=[1,2,3]\n",
    "C=[2,3,4]\n",
    "print(A==B)\n",
    "print(A==C)\n"
   ]
  },
  {
   "attachments": {},
   "cell_type": "markdown",
   "metadata": {},
   "source": [
    "#### Types:List:Function:Loop"
   ]
  },
  {
   "cell_type": "code",
   "execution_count": null,
   "metadata": {},
   "outputs": [],
   "source": [
    "A = [11,22,33]\n",
    "for xxx in A:\n",
    "    print (xxx)\n"
   ]
  },
  {
   "attachments": {},
   "cell_type": "markdown",
   "metadata": {},
   "source": [
    "## Types:Dataframe"
   ]
  },
  {
   "cell_type": "code",
   "execution_count": null,
   "metadata": {},
   "outputs": [],
   "source": [
    "import numpy as np\n",
    "import pandas as pd\n",
    "import matplotlib.pyplot as plt\n",
    "import seaborn as sns\n",
    "\n",
    "df = pd.read_csv('./data/dm_office_sales.csv')\n",
    "#df.corr(numeric_only=True)\n",
    "df.describe()\n",
    "#df.shape\n",
    "#df.index\n",
    "#df.head()\n",
    "#df.tail()\n",
    "#df.info()\n",
    "#len(df)\n",
    "#df['division'].value_counts()"
   ]
  },
  {
   "attachments": {},
   "cell_type": "markdown",
   "metadata": {},
   "source": [
    "# Function"
   ]
  },
  {
   "attachments": {},
   "cell_type": "markdown",
   "metadata": {},
   "source": [
    "## Print"
   ]
  },
  {
   "cell_type": "code",
   "execution_count": null,
   "metadata": {},
   "outputs": [],
   "source": [
    "a='Hello'\n",
    "b=3"
   ]
  },
  {
   "cell_type": "code",
   "execution_count": null,
   "metadata": {},
   "outputs": [],
   "source": [
    "print (a)\n",
    "print (a , 'Ste')\n",
    "print (a + 'Ste')\n",
    "print(b)\n",
    "print(a*b)"
   ]
  },
  {
   "attachments": {},
   "cell_type": "markdown",
   "metadata": {},
   "source": [
    "## Convert"
   ]
  },
  {
   "attachments": {},
   "cell_type": "markdown",
   "metadata": {},
   "source": [
    "### int to string:"
   ]
  },
  {
   "cell_type": "code",
   "execution_count": null,
   "metadata": {},
   "outputs": [],
   "source": [
    "a=6\n",
    "b='Hello'\n",
    "print(type(a))\n",
    "print(type(b))\n",
    "print('*********')\n",
    "print(type(str(a)))"
   ]
  },
  {
   "attachments": {},
   "cell_type": "markdown",
   "metadata": {},
   "source": [
    "### list to sting"
   ]
  },
  {
   "cell_type": "code",
   "execution_count": null,
   "metadata": {},
   "outputs": [],
   "source": [
    "A=['aaa','bbb','cc']\n",
    "C = ''.join(A)\n",
    "print (C)\n",
    "B = ':'.join(A)\n",
    "print (B)\n"
   ]
  },
  {
   "attachments": {},
   "cell_type": "markdown",
   "metadata": {},
   "source": [
    "### string to list"
   ]
  },
  {
   "cell_type": "code",
   "execution_count": null,
   "metadata": {},
   "outputs": [],
   "source": [
    "A='www+eee+der'\n",
    "B=A.split('+')\n",
    "print(type(A))\n",
    "print(A)\n",
    "print(type(B))\n",
    "print(B)"
   ]
  },
  {
   "attachments": {},
   "cell_type": "markdown",
   "metadata": {},
   "source": [
    "### Dict 2 dict items"
   ]
  },
  {
   "cell_type": "code",
   "execution_count": null,
   "metadata": {},
   "outputs": [],
   "source": [
    "my_dict = {\n",
    "    \"key1\": \"value1\",\n",
    "    \"key2\": \"value2\",\n",
    "    \"key3\": \"value3\"\n",
    "}\n",
    "l = my_dict.items()\n",
    "print(type(my_dict))\n",
    "print(my_dict)\n",
    "print(\"***********\")\n",
    "print(type(l))\n",
    "print(l)\n"
   ]
  },
  {
   "cell_type": "code",
   "execution_count": null,
   "metadata": {},
   "outputs": [],
   "source": [
    "\n",
    "\t\t\n"
   ]
  },
  {
   "cell_type": "markdown",
   "metadata": {},
   "source": []
  },
  {
   "attachments": {},
   "cell_type": "markdown",
   "metadata": {},
   "source": [
    "### Files2"
   ]
  },
  {
   "cell_type": "code",
   "execution_count": null,
   "metadata": {},
   "outputs": [],
   "source": [
    "#looping over every line\n",
    "filename ='./data/textfile.txt'\n",
    "f = open(filename,'rU')\n",
    "for line in f:\t\n",
    "\tprint (line)\n",
    "f.close()\n",
    "\n",
    "\n",
    "\t"
   ]
  },
  {
   "cell_type": "code",
   "execution_count": null,
   "metadata": {},
   "outputs": [],
   "source": [
    "#Read file to list\n",
    "f = open(filename,'rU')\n",
    "lines = f.readlines()\n",
    "f.close()\n",
    "ines = ['aaa\\\\n','bbb\\\\n']\n",
    "\n",
    "#Read file to string\n",
    "f = open(filename,'rU')\n",
    "string= f.read()\n",
    "f.close()\n"
   ]
  },
  {
   "cell_type": "code",
   "execution_count": null,
   "metadata": {},
   "outputs": [],
   "source": [
    "lines"
   ]
  },
  {
   "attachments": {},
   "cell_type": "markdown",
   "metadata": {},
   "source": []
  },
  {
   "attachments": {},
   "cell_type": "markdown",
   "metadata": {},
   "source": [
    "## Math"
   ]
  },
  {
   "attachments": {},
   "cell_type": "markdown",
   "metadata": {},
   "source": [
    "### Modulo"
   ]
  },
  {
   "cell_type": "code",
   "execution_count": null,
   "metadata": {},
   "outputs": [],
   "source": [
    "a = 7\n",
    "b = 8 \n",
    "c = 9 \n",
    "d = 10 \n",
    "\n",
    "print (a%2)\n",
    "print (b%2)\n",
    "print (c%2)\n",
    "print (d%2)\n"
   ]
  },
  {
   "attachments": {},
   "cell_type": "markdown",
   "metadata": {},
   "source": [
    "# Conditions"
   ]
  },
  {
   "attachments": {},
   "cell_type": "markdown",
   "metadata": {},
   "source": [
    "## if"
   ]
  },
  {
   "cell_type": "code",
   "execution_count": null,
   "metadata": {},
   "outputs": [],
   "source": [
    "name = \"Hello\"\n",
    "\n",
    "\n",
    "if name == 'Alice':\n",
    "\tprint (\"AliceMode: On\")\n",
    "else:\n",
    "    print (\"AliceMode: Off\")\n",
    "\n",
    "if name == 'Ste' or name == 'STE':\n",
    "\tprint('Normal')\n",
    "elif name == 'Hello':\n",
    "    print(\"Hello there\")\n",
    "else:\n",
    "    print('Not true')"
   ]
  },
  {
   "attachments": {},
   "cell_type": "markdown",
   "metadata": {},
   "source": [
    "# Import"
   ]
  },
  {
   "attachments": {},
   "cell_type": "markdown",
   "metadata": {},
   "source": [
    "## sys"
   ]
  },
  {
   "attachments": {},
   "cell_type": "markdown",
   "metadata": {},
   "source": [
    "\t\timport sys\n",
    "\t\t\tsys.argv\n",
    "\t\t\t\tArgumente die beim Programmstart übergeben wurden"
   ]
  },
  {
   "attachments": {},
   "cell_type": "markdown",
   "metadata": {},
   "source": [
    "## re\t\n"
   ]
  },
  {
   "attachments": {},
   "cell_type": "markdown",
   "metadata": {},
   "source": [
    "### Regular expressin"
   ]
  },
  {
   "attachments": {},
   "cell_type": "markdown",
   "metadata": {},
   "source": [
    "\t\tregular expression\t\n",
    "\t\timport re"
   ]
  },
  {
   "cell_type": "code",
   "execution_count": null,
   "metadata": {},
   "outputs": [],
   "source": [
    "import re\n",
    "filename ='./data/bible.txt'\n",
    "f = open(filename,'rU')\n",
    "text = f.read()\n",
    "f.close()\n",
    "m = re.findall(\"Yo\",text)\n",
    "len(m)\n",
    "#m.group()\n",
    "\t\n",
    "\t\n",
    "\n",
    "\t#-> return a list with all results"
   ]
  },
  {
   "attachments": {},
   "cell_type": "markdown",
   "metadata": {},
   "source": [
    "\t;seach for the first appearence of the pattern in the text\n",
    "\t\n",
    "\tPattern palceholders\n",
    "\t. any char\n",
    "\t\\w word char\n",
    "\t\\d digit\n",
    "\t\\s whitespace\n",
    "\t\\S non-whitespace\n",
    "\t+ 1 or more\n",
    "\t* 0 or more\n",
    "\t[\\w.] adds a dot to the charecters to search for\n",
    "\t()() groups the result\n",
    "\t\n",
    "\tre.findall(pattern,text)"
   ]
  },
  {
   "attachments": {},
   "cell_type": "markdown",
   "metadata": {},
   "source": [
    "## os\n"
   ]
  },
  {
   "attachments": {},
   "cell_type": "markdown",
   "metadata": {},
   "source": [
    "\t\toperating system\n",
    "\t\t\tfiles and folders\n",
    "\t\t\t\tos.listdir(.)\n",
    "\t\t\t\t\tlist with files&folders from the diretory where it is running\n",
    "\t\t\t\tos.listdir(c:\\)\t\n",
    "\t\t\t\t\tlist with files&folders from c:\\\n",
    "\t\t\t\t\n",
    "\t\t\t\t\n",
    "\t\t\t\tname = sys.argv[1]\n",
    "\t\t\t\tfilenames = os.listdir(name)\n",
    "\t\t\t\tfor filename in filenames:\n",
    "\t\t\t\t\tpath = os.path.join(name, filename)\t\t/makeing a valid path\n",
    "\t\t\t\t\tprint (path)\n",
    "\t\t\t\t\tabspath = os.path.abspath(path)\t\t\t/making a valid absolute path\n",
    "\t\t\t\t\tprint (abspath)\t\n",
    "\t\t\t\t\t\n",
    "\t\t\tdoes a path exists?\n",
    "\t\t\t\tos.path.exists('/something)\n",
    "\t\t\t\t\t-> True or False\n",
    "\t\t\t\n",
    "\t\t\tCreat folder if it is not existing\n",
    "\t\t\tif not (os.path.exists(CopyToDir)):\n",
    "\t\t\t\tos.mkdir(CopyToDir) "
   ]
  },
  {
   "attachments": {},
   "cell_type": "markdown",
   "metadata": {},
   "source": [
    "## commands\n"
   ]
  },
  {
   "attachments": {},
   "cell_type": "markdown",
   "metadata": {},
   "source": [
    "\t\tshell commands\n",
    "\t\t\tcmd = dir\n",
    "\t\t\t\t(status,outputs) = commands.getstatusoutput(cmd)"
   ]
  },
  {
   "attachments": {},
   "cell_type": "markdown",
   "metadata": {},
   "source": [
    "## urllib"
   ]
  },
  {
   "attachments": {},
   "cell_type": "markdown",
   "metadata": {},
   "source": [
    "\t\topen a url\n",
    "\t\t\turl = urllib.urlopen('http://google.com')\n",
    "\t\treading a url\n",
    "\t\t\turl = urllib.urlopen('http://google.com')\n",
    "\t\t\turl.read()\n",
    "\t\tdownload to the folder where the script is executed\n",
    "\t\t\turllib.urlretrieve('http://google.com/something.gif' , abc.gif)"
   ]
  },
  {
   "attachments": {},
   "cell_type": "markdown",
   "metadata": {},
   "source": [
    "## matplotlib"
   ]
  },
  {
   "cell_type": "markdown",
   "metadata": {},
   "source": [
    "data visialisation"
   ]
  },
  {
   "attachments": {},
   "cell_type": "markdown",
   "metadata": {},
   "source": [
    "### Plot one line (two series)"
   ]
  },
  {
   "cell_type": "code",
   "execution_count": null,
   "metadata": {},
   "outputs": [],
   "source": [
    "#Showing a graph x = 1 2 3   and y = 5 7 4\n",
    "\n",
    "import matplotlib.pyplot as plt\n",
    "\n",
    "x = [1,2,3,]\n",
    "y = [5,7,4]\n",
    "plt.title ('Ohne Limits')\n",
    "plt.xlabel('XXX')\n",
    "plt.ylabel('YYY')\n",
    "plt.plot(x,y)\n",
    "plt.show()\n",
    "\n",
    "x = [1,2,3,]\n",
    "y = [5,7,4]\n",
    "plt.title ('Mit\\nLimits')\n",
    "plt.xlabel('XXX')\n",
    "plt.ylabel('YYY')\n",
    "plt.xlim(1,3)\n",
    "plt.plot(x,y)\n",
    "plt.show()\n",
    "#Save the file\n",
    "#plt.savefig('Test.png')"
   ]
  },
  {
   "attachments": {},
   "cell_type": "markdown",
   "metadata": {},
   "source": [
    "### Showing two graphs"
   ]
  },
  {
   "cell_type": "code",
   "execution_count": null,
   "metadata": {},
   "outputs": [],
   "source": [
    "import matplotlib.pyplot as plt\n",
    "def main():\n",
    "\tx = [1,2,3,]\n",
    "\ty = [5,7,4]\n",
    "\tx2 = [1,2,8]\n",
    "\ty2 = [12,10,18]\n",
    "\tplt.plot(x,y,label = \"First line\")\n",
    "\tplt.plot(x2,y2,label = \"Secound line\")\n",
    "\tplt.title ('acb\\nxyz')\n",
    "\tplt.show()\n",
    "\n",
    "main()"
   ]
  },
  {
   "cell_type": "code",
   "execution_count": null,
   "metadata": {},
   "outputs": [],
   "source": [
    "import matplotlib.pyplot as plt\n",
    "import numpy as np\n",
    "x = np.arange(0,10)\n",
    "y = x * 2\n",
    "z = x**2\n",
    "fig = plt.figure(figsize=(10,10),dpi=50)\n",
    "axes1 = fig.add_axes([0,0,1,1])\n",
    "axes1.plot(x,y)\n",
    "\n",
    "axes2 = fig.add_axes([0.2,0.4,0.5,0.5])\n",
    "axes2.plot(x,z)\n",
    "plt.show()"
   ]
  },
  {
   "attachments": {},
   "cell_type": "markdown",
   "metadata": {},
   "source": [
    "\n",
    "\n",
    "\t\t\t\t\t\n",
    "\t\t\t\n",
    "\n",
    "\t\t\t\t\t\n",
    "\t\t\tLabels x,y,titel\n",
    "\t\t\t\t\tplt.xlabel('Plot Number')\n",
    "\t\t\t\t\tplt.ylabel('Imp var')\n",
    "\t\t\t\t\tplt.title ('acb')\n",
    "\t\t\t\t\tplt.title ('acb\\nxyz')\n",
    "\t\t\t\n",
    "\t\t\tPlot bars\n",
    "\t\t\t\t\tplt.bar(x,y,label = 'aaa')\n",
    "\t\t\t\t\tplt.show()\n",
    "\t\t\tPlot two bars\n",
    "\t\t\t\t\tplt.bar(x,y,label = 'aaa',color='r')\n",
    "\t\t\t\t\tplt.bar(x2,y2,label = 'bbb',color='c')\n",
    "\t\t\t\t\tplt.show()\n",
    "\t\t\t\n",
    "\t\t\tPlot histogram\n",
    "\t\t\t\t\tx=[]\t-> a long list with data\n",
    "\t\t\t\t\tbins=[]\t-> how to group it e.g.: [0,10,20,30,40,50,60,70,80,90]\n",
    "\t\t\t\t\tplt.hist(y,bins,rwidth=0.8)\n",
    "\t\t\t\t\tplt.show()\n",
    "\t\t\t\n",
    "\t\t\tPlot scatter\n",
    "\t\t\t\t\tx=[]\n",
    "\t\t\t\t\ty=[]\n",
    "\t\t\t\t\tplt.scatter(x,y)\n",
    "\t\t\t\t\tplt.show()\n",
    "\t\t\t\t\t\n",
    "\t\t\tPlot stackplot\n",
    "\t\t\t\t\tx  = [1,2,3,4,5]\n",
    "\t\t\t\t\t\n",
    "\t\t\t\t\ty1 = [4,5,3,2,1]\n",
    "\t\t\t\t\ty2 = [2,2,3,4,4]\n",
    "\t\t\t\t\ty3 = [4,3,4,4,5]\n",
    "\t\t\t\t\tcols =['m','c','r','k']\n",
    "\t\t\t\t\tplt.stackplot(x,y1,y2,y3, color=cols)\n",
    "\t\t\t\t\tplt.show()\n",
    "\t\t\t\n",
    "\t\t\tPlot Piechart\n",
    "\t\t\t\t\tslices = [12,3,10,20,15]\n",
    "\t\t\t\t\tname = ['a',b','aaa','www',yas']\n",
    "\t\t\t\t\tcol = ['c','m','r','k']\n",
    "\t\t\t\t\t\n",
    "\t\t\t\t\tplt.pie(slices, labels=name, colors = col)\n",
    "\t\t\t\t\tplt.show()\n",
    "\t\t\t\n",
    "\t\t\tKeywords\n",
    "\t\t\t\t\tcolor, label, linewidth"
   ]
  },
  {
   "cell_type": "markdown",
   "metadata": {},
   "source": []
  },
  {
   "attachments": {},
   "cell_type": "markdown",
   "metadata": {},
   "source": [
    "## Seaborn"
   ]
  },
  {
   "attachments": {},
   "cell_type": "markdown",
   "metadata": {},
   "source": [
    "### Basics"
   ]
  },
  {
   "cell_type": "code",
   "execution_count": null,
   "metadata": {},
   "outputs": [],
   "source": [
    "import numpy as np\n",
    "import pandas as pd\n",
    "import matplotlib.pyplot as plt\n",
    "import seaborn as sns\n",
    "\n",
    "df = pd.read_csv('./data/dm_office_sales.csv')\n",
    "print(type(df))\n",
    "print(\"111111111111111111111111\")\n",
    "df.head()\n"
   ]
  },
  {
   "cell_type": "code",
   "execution_count": null,
   "metadata": {},
   "outputs": [],
   "source": [
    "#df.describe()\n",
    "#df.shape\n",
    "#df.index\n",
    "#df.head()\n",
    "#df.tail()\n",
    "#df.info()\n",
    "#df['division'].value_counts()"
   ]
  },
  {
   "attachments": {},
   "cell_type": "markdown",
   "metadata": {},
   "source": [
    "### Rugplot"
   ]
  },
  {
   "cell_type": "code",
   "execution_count": null,
   "metadata": {},
   "outputs": [],
   "source": [
    "\n",
    "sns.rugplot(x='salary',data=df)"
   ]
  },
  {
   "attachments": {},
   "cell_type": "markdown",
   "metadata": {},
   "source": [
    "### Scatterplot"
   ]
  },
  {
   "cell_type": "code",
   "execution_count": 3,
   "metadata": {},
   "outputs": [
    {
     "name": "stdout",
     "output_type": "stream",
     "text": [
      "(1000, 6)\n"
     ]
    },
    {
     "data": {
      "text/html": [
       "<div>\n",
       "<style scoped>\n",
       "    .dataframe tbody tr th:only-of-type {\n",
       "        vertical-align: middle;\n",
       "    }\n",
       "\n",
       "    .dataframe tbody tr th {\n",
       "        vertical-align: top;\n",
       "    }\n",
       "\n",
       "    .dataframe thead th {\n",
       "        text-align: right;\n",
       "    }\n",
       "</style>\n",
       "<table border=\"1\" class=\"dataframe\">\n",
       "  <thead>\n",
       "    <tr style=\"text-align: right;\">\n",
       "      <th></th>\n",
       "      <th>division</th>\n",
       "      <th>level of education</th>\n",
       "      <th>training level</th>\n",
       "      <th>work experience</th>\n",
       "      <th>salary</th>\n",
       "      <th>sales</th>\n",
       "    </tr>\n",
       "  </thead>\n",
       "  <tbody>\n",
       "    <tr>\n",
       "      <th>0</th>\n",
       "      <td>printers</td>\n",
       "      <td>some college</td>\n",
       "      <td>2</td>\n",
       "      <td>6</td>\n",
       "      <td>91684</td>\n",
       "      <td>372302</td>\n",
       "    </tr>\n",
       "    <tr>\n",
       "      <th>1</th>\n",
       "      <td>printers</td>\n",
       "      <td>associate's degree</td>\n",
       "      <td>2</td>\n",
       "      <td>10</td>\n",
       "      <td>119679</td>\n",
       "      <td>495660</td>\n",
       "    </tr>\n",
       "    <tr>\n",
       "      <th>2</th>\n",
       "      <td>peripherals</td>\n",
       "      <td>high school</td>\n",
       "      <td>0</td>\n",
       "      <td>9</td>\n",
       "      <td>82045</td>\n",
       "      <td>320453</td>\n",
       "    </tr>\n",
       "    <tr>\n",
       "      <th>3</th>\n",
       "      <td>office supplies</td>\n",
       "      <td>associate's degree</td>\n",
       "      <td>2</td>\n",
       "      <td>5</td>\n",
       "      <td>92949</td>\n",
       "      <td>377148</td>\n",
       "    </tr>\n",
       "    <tr>\n",
       "      <th>4</th>\n",
       "      <td>office supplies</td>\n",
       "      <td>high school</td>\n",
       "      <td>1</td>\n",
       "      <td>5</td>\n",
       "      <td>71280</td>\n",
       "      <td>312802</td>\n",
       "    </tr>\n",
       "  </tbody>\n",
       "</table>\n",
       "</div>"
      ],
      "text/plain": [
       "          division  level of education  training level  work experience  \\\n",
       "0         printers        some college               2                6   \n",
       "1         printers  associate's degree               2               10   \n",
       "2      peripherals         high school               0                9   \n",
       "3  office supplies  associate's degree               2                5   \n",
       "4  office supplies         high school               1                5   \n",
       "\n",
       "   salary   sales  \n",
       "0   91684  372302  \n",
       "1  119679  495660  \n",
       "2   82045  320453  \n",
       "3   92949  377148  \n",
       "4   71280  312802  "
      ]
     },
     "execution_count": 3,
     "metadata": {},
     "output_type": "execute_result"
    }
   ],
   "source": [
    "import numpy as np\n",
    "import pandas as pd\n",
    "import matplotlib.pyplot as plt\n",
    "import seaborn as sns\n",
    "\n",
    "df = pd.read_csv('./data/dm_office_sales.csv')\n",
    "print(df.shape)\n",
    "df.head()"
   ]
  },
  {
   "cell_type": "code",
   "execution_count": 4,
   "metadata": {},
   "outputs": [
    {
     "data": {
      "text/plain": [
       "<AxesSubplot: xlabel='salary', ylabel='sales'>"
      ]
     },
     "execution_count": 4,
     "metadata": {},
     "output_type": "execute_result"
    },
    {
     "data": {
      "image/png": "[encoded data removed]",
      "text/plain": [
       "<Figure size 1200x400 with 1 Axes>"
      ]
     },
     "metadata": {},
     "output_type": "display_data"
    }
   ],
   "source": [
    "plt.figure(figsize=(12,4))\n",
    "#sns.scatterplot(data=df,x='salary',y='sales')\n",
    "#plt.ylim(2,10)\n",
    "#plt.xlim(2,10)\n",
    "sns.scatterplot(data=df,x='salary',y='sales',hue='level of education',palette='Dark2')"
   ]
  },
  {
   "attachments": {},
   "cell_type": "markdown",
   "metadata": {},
   "source": [
    "### displot"
   ]
  },
  {
   "cell_type": "code",
   "execution_count": null,
   "metadata": {},
   "outputs": [],
   "source": [
    "sns.set(style='white')  #default\n",
    "sns.displot(data=df,x='salary')"
   ]
  },
  {
   "cell_type": "code",
   "execution_count": null,
   "metadata": {},
   "outputs": [],
   "source": [
    "#sns.set(style='darkgrid')\n",
    "#sns.set(style='dark')\n",
    "sns.set(style='ticks')\n",
    "#sns.set(style='white')  #default\n",
    "sns.displot(data=df,x='salary',bins=100,edgecolor='blue',color='red')"
   ]
  },
  {
   "cell_type": "code",
   "execution_count": null,
   "metadata": {},
   "outputs": [],
   "source": [
    "sns.set(style='white')  #default\n",
    "#sns.displot(data=df,x='salary')\n",
    "sns.displot(data=df,x='salary',kde=True)\n",
    "#sns.kdeplot(data=df,x='salary')"
   ]
  },
  {
   "attachments": {},
   "cell_type": "markdown",
   "metadata": {},
   "source": [
    "### Countplot"
   ]
  },
  {
   "cell_type": "code",
   "execution_count": null,
   "metadata": {},
   "outputs": [],
   "source": [
    "import numpy as np\n",
    "import pandas as pd\n",
    "import matplotlib.pyplot as plt\n",
    "import seaborn as sns\n",
    "\n",
    "plt.figure(figsize=(10,4),dpi=100)\n",
    "sns.countplot(data=df,x='division')"
   ]
  },
  {
   "cell_type": "code",
   "execution_count": null,
   "metadata": {},
   "outputs": [],
   "source": [
    "plt.figure(figsize=(10,4),dpi=100)\n",
    "sns.countplot(data=df,x='level of education',hue=\"division\")"
   ]
  },
  {
   "attachments": {},
   "cell_type": "markdown",
   "metadata": {},
   "source": [
    "### Barplot"
   ]
  },
  {
   "cell_type": "code",
   "execution_count": null,
   "metadata": {},
   "outputs": [],
   "source": [
    "import numpy as np\n",
    "import pandas as pd\n",
    "import matplotlib.pyplot as plt\n",
    "import seaborn as sns\n",
    "\n",
    "df = pd.read_csv('./data/dm_office_sales.csv')"
   ]
  },
  {
   "cell_type": "code",
   "execution_count": null,
   "metadata": {},
   "outputs": [],
   "source": [
    "plt.figure(figsize=(10,4),dpi=100)\n",
    "sns.barplot(data=df,x=\"level of education\",y='salary',estimator=np.mean,errorbar=\"sd\",hue=\"division\")\n",
    "plt.legend(bbox_to_anchor=(1.05,1))"
   ]
  },
  {
   "attachments": {},
   "cell_type": "markdown",
   "metadata": {},
   "source": [
    "### Boxplot"
   ]
  },
  {
   "cell_type": "code",
   "execution_count": null,
   "metadata": {},
   "outputs": [],
   "source": [
    "import numpy as np\n",
    "import pandas as pd\n",
    "import matplotlib.pyplot as plt\n",
    "import seaborn as sns\n",
    "\n",
    "df = pd.read_csv('./data/StudentsPerformance.csv')\n",
    "\n",
    "df.head()"
   ]
  },
  {
   "cell_type": "code",
   "execution_count": null,
   "metadata": {},
   "outputs": [],
   "source": [
    "#df.describe()\n",
    "#df.shape\n",
    "#df.index\n",
    "#df.head()\n",
    "#df.tail()\n",
    "#df['math score']"
   ]
  },
  {
   "cell_type": "code",
   "execution_count": null,
   "metadata": {},
   "outputs": [],
   "source": [
    "sns.boxplot(data=df,y=\"math score\",x=\"test preparation course\",hue=\"gender\")"
   ]
  },
  {
   "attachments": {},
   "cell_type": "markdown",
   "metadata": {},
   "source": [
    "### Comparison Plot"
   ]
  },
  {
   "cell_type": "code",
   "execution_count": null,
   "metadata": {},
   "outputs": [],
   "source": []
  },
  {
   "attachments": {},
   "cell_type": "markdown",
   "metadata": {},
   "source": [
    "## csv"
   ]
  },
  {
   "attachments": {},
   "cell_type": "markdown",
   "metadata": {},
   "source": [
    "You may want to use pandas"
   ]
  },
  {
   "attachments": {},
   "cell_type": "markdown",
   "metadata": {},
   "source": [
    "\t\tcsv handling\n",
    "\t\timport csv\n",
    "\t\t\twith open(filename,'r') as csvfile:\n",
    "\t\t\t\tplots = csv.reader(csvfile, delimiter = ',')    \n",
    "\t\t\t\tplots.next()                                    #Skip first line\n",
    "\t\t\t\tfor row in plots:\n",
    "\t\t\t\t\tx.append(int(row[0])                                                   \n",
    "\t\t\t\t\ty.append(float(row[6]))"
   ]
  },
  {
   "attachments": {},
   "cell_type": "markdown",
   "metadata": {},
   "source": [
    "## numpy"
   ]
  },
  {
   "attachments": {},
   "cell_type": "markdown",
   "metadata": {},
   "source": [
    "\t\treading data from file easyly\n",
    "\t\t\timport matplotlib.pyplot as plt\n",
    "\t\t\timport numpy as np\n",
    "\t\t\tfilename = 'something.txt'\n",
    "\t\t\tdef main():\n",
    "\t\t\t\n",
    "\t\t\t\tx,y =np.loadtxt(filename,delimiter=',',unpack=True)  ; must be float values\n",
    "\t\t\t\tprint (x)\n",
    "\t\t\t\tprint (y)\n",
    "\t\t\t\tplt.plot(x,y)\n",
    "\t\t\t\tplt.show()"
   ]
  },
  {
   "attachments": {},
   "cell_type": "markdown",
   "metadata": {},
   "source": [
    "## keyboard"
   ]
  },
  {
   "attachments": {},
   "cell_type": "markdown",
   "metadata": {},
   "source": [
    "\t\tSimulating the keyboard\n",
    "\t\t\tkeyboard.write('b',delay=0.2)\n",
    "\t\t\tkeyboard.send('space')\n",
    "\t\t\tkeyboard.send('enter')\n",
    "\t\t\tkeyboard.send(57)"
   ]
  },
  {
   "attachments": {},
   "cell_type": "markdown",
   "metadata": {},
   "source": [
    "German Keyboard Layout\n",
    "|Number|Value|\n",
    "|---|---|\n",
    "1|ESC|\n",
    "14|BACKSPACE|\n",
    "15|TAB|\n",
    "28|ENTER|\n",
    "29|STRGL|\n",
    "42|SHIFTL|\n",
    "54|SHIFTR|\n",
    "56|ALT|\n",
    "57|SPACE|\n",
    "58|CAPS|\n",
    "59|F1|\n",
    "60|F2|\n",
    "61|F3|\n",
    "62|F4|\n",
    "63|F5|\n",
    "64|F6|\n",
    "65|F7|\n",
    "66|F8|\n",
    "67|F9|\n",
    "68|F10|\n",
    "87|F11|\n",
    "88|F12|\n",
    "69|NUM|\n",
    "82|NUM_0|\n",
    "79|NUM_1|\n",
    "80|NUM_2|\n",
    "81|NUM_3|\n",
    "75|NUM_4|\n",
    "76|NUM_5|\n",
    "77|NUM_6|\n",
    "71|NUM_7|\n",
    "72|NUM_8|\n",
    "73|NUM_9|\n",
    "156|NUM_ENTER|\n",
    "83|NUM_,|\n",
    "74|NUM_-|\n",
    "78|NUM_+|\n",
    "55|NUM_*|\n",
    "70|SCROLL|\n",
    "200|UP|\n",
    "211|DELETE|\n",
    "157|STRGR|\n",
    "201|PAGEUP|\n",
    "219|WINR|\n",
    "220|WINL|\n",
    "181|NUM_/|\n",
    "203|LEFT|\n",
    "221|APP|\n",
    "183|PRINT|\n",
    "184|ALTGR|\n",
    "205|RIGHT|\n",
    "NOT DEFINED|+|\n",
    "197|PAUSE|\n",
    "207|END|\n",
    "199|POS1|\n",
    "208|DOWN|\n",
    "209|PAGEDOWN|\n",
    "210|INSERT|"
   ]
  },
  {
   "attachments": {},
   "cell_type": "markdown",
   "metadata": {},
   "source": [
    "## mouse"
   ]
  },
  {
   "attachments": {},
   "cell_type": "markdown",
   "metadata": {},
   "source": [
    "\t\tSimulating the mouse\n",
    "\t\t\tmouse.move(10,10,absolute=False, duration=0.2)\n",
    "\t\t\tmouse.press(button='left')\n",
    "\t\t\tposition = mouse.get_position()\n",
    "\t\t\tprint(position)\n",
    "\n",
    "\t\n",
    "\t\t\t\t\n"
   ]
  },
  {
   "attachments": {},
   "cell_type": "markdown",
   "metadata": {},
   "source": [
    "## Pandas"
   ]
  }
 ],
 "metadata": {
  "kernelspec": {
   "display_name": "Python 3",
   "language": "python",
   "name": "python3"
  },
  "language_info": {
   "codemirror_mode": {
    "name": "ipython",
    "version": 3
   },
   "file_extension": ".py",
   "mimetype": "text/x-python",
   "name": "python",
   "nbconvert_exporter": "python",
   "pygments_lexer": "ipython3",
   "version": "3.8.10"
  },
  "orig_nbformat": 4,
  "vscode": {
   "interpreter": {
    "hash": "c910b959155feeba2ed1dda030bb122d593b8415dc420e5f468925717a5d43d7"
   }
  }
 },
 "nbformat": 4,
 "nbformat_minor": 2
}
